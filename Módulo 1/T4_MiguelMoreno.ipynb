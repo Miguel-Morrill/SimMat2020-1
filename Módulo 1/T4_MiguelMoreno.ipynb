{
 "cells": [
  {
   "cell_type": "markdown",
   "metadata": {},
   "source": [
    "## 8. Tarea \n",
    "\n",
    "### 8.1. Otro problema de transporte\n",
    "\n",
    "La empresa Carbones de oriente debe ingresar a la empresa un requerimiento mínimo diario de carbón de $5000$ kg de carbón de alto volátil, $4000$ kg de medio volátil y $3000$ kg de bajo volátil para su debido proceso y trasformación. \n",
    "\n",
    "La entrada de estos se da en la siguiente tabla (los valores corresponden a un viaje en kg): \n",
    "\n",
    "-|Alto volátil|Medio volátil|Bajo volátil\n",
    ":----|----|----|----\n",
    "Mina sur|80|70|65\n",
    "Mina norte|60|50|40\n",
    "Mina central|40|30|20\n",
    "\n",
    "El costo del trasporte de un viaje de cada mina es de 2500 dólares, 1500 dólares y 900 dólares, respectivamente. ¿Cuántos viajes de cada mina se deben recibir a diario para suplir los requerimientos mínimos y generar el menor costo de transporte? \n",
    "\n",
    "Para simplificar la notación use las siguientes variables: \n",
    "\n",
    "+ $x_1:$ Cantidad de viajes de la mina sur  \n",
    "+ $x_2:$ Cantidad de viajes de la mina norte  \n",
    "+ $x_3:$ Cantidad de viajes de la mina central  \n",
    "\n",
    "\n",
    "El objetivo consiste consiste en plantear el problema de programación lineal que permita satisfacer los requerimientos de la empresa Carbones de oriente y resolverlo con `linprog`."
   ]
  },
  {
   "cell_type": "code",
   "execution_count": 1,
   "metadata": {},
   "outputs": [],
   "source": [
    "import numpy as np\n",
    "import matplotlib.pyplot as plt\n",
    "import scipy.optimize as opt\n",
    "%matplotlib inline"
   ]
  },
  {
   "cell_type": "code",
   "execution_count": 2,
   "metadata": {},
   "outputs": [],
   "source": [
    "c = np.array([2500,1500,900])\n",
    "\n",
    "A = np.array([[-80,-60,-40],\n",
    "              [-70,-50,-30],\n",
    "              [-65,-40,-20]])\n",
    "\n",
    "b = np.array([-5000,-4000,-3000])"
   ]
  },
  {
   "cell_type": "code",
   "execution_count": 3,
   "metadata": {},
   "outputs": [
    {
     "data": {
      "text/plain": [
       "     con: array([], dtype=float64)\n",
       "     fun: 119999.99941221211\n",
       " message: 'Optimization terminated successfully.'\n",
       "     nit: 5\n",
       "   slack: array([-2.45879182e-05, -1.96286537e-05, -1.46559923e-05])\n",
       "  status: 0\n",
       " success: True\n",
       "       x: array([2.67928908e-09, 4.99999998e+01, 4.99999997e+01])"
      ]
     },
     "execution_count": 3,
     "metadata": {},
     "output_type": "execute_result"
    }
   ],
   "source": [
    "viajes = opt.linprog(c,A,b)\n",
    "viajes"
   ]
  },
  {
   "cell_type": "markdown",
   "metadata": {},
   "source": [
    "En conclusión, e menos costo de transporte seria de $120,000 con 5 viajes de las minas del norte y central en cada una.\n",
    "\n",
    "$\\min \\quad (2500x_1+1500x_2+900x_3)$\n",
    "\n",
    "Restricciones de igualdad\n",
    "\n",
    "$80x_1+60x_1+40x_1 >= 5000$\n",
    "\n",
    "$70x_2+50x_2+30x_2 >= 4000$\n",
    "\n",
    "$65x_3+40x_3+20x_3 >= 3000$\n"
   ]
  },
  {
   "cell_type": "markdown",
   "metadata": {},
   "source": [
    "### 8.2. \n",
    "Una empresa de muebles rústicos fabrica entre muchos otros productos cinco tipos de sillas A, B, C, D Y E, las cuales se venden a precio de $1100$, $1300$, $1200$, $980$ y $1010$ pesos cada una y respectivamente. \n",
    "\n",
    "Las sillas pasan por cinco procesos: corte, ensamblado, lijado, pintado y sellado, para lo cual se dispone máximo de $17$, $11$, $15$, $12$ y $14$ horas respectivamente a la semana para dedicar a estas operaciones a estos productos.\n",
    "\n",
    "Los requerimientos, en horas, para cada una de las sillas está dado en la siguiente tabla:\n",
    "\n",
    "-|Corte|Ensamblado|Lijado|Pintado|Sellado\n",
    ":----|----|----|----|----|----\n",
    "Silla A|3|1|3|1|1\n",
    "Silla B|2|3|2|2|3\n",
    "Silla C|5|2|2|3|1\n",
    "Silla D|2|4|1|1|2\n",
    "Silla E|1|0|2|2|3\n",
    "\n",
    "¿Cuántas sillas de cada tipo se deben fabricar para suplir los requerimientos de disponibiladas semanal y generar la mayor utilidad en ventas? \n",
    "\n",
    "Para simplificar la notación use las siguientes variables: \n",
    "\n",
    "+ $x_A:$ Cantidad de sillas tipo A \n",
    "+ $x_B:$ Cantidad de sillas tipo B \n",
    "+ $x_C:$ Cantidad de sillas tipo C \n",
    "+ $x_D:$ Cantidad de sillas tipo D  \n",
    "+ $x_E:$ Cantidad de sillas tipo E\n",
    "\n",
    "\n",
    "El objetivo consiste consiste en plantear el problemade programación lineal que permita satisfacer los requerimientos de la empresa empresa de muebles y resolverlo con `linprog`.\n"
   ]
  },
  {
   "cell_type": "code",
   "execution_count": 4,
   "metadata": {},
   "outputs": [],
   "source": [
    "c = -np.array([1100,1300,1200,980,1010])\n",
    "\n",
    "A = np.array([[3,2,5,2,1],\n",
    "              [1,3,2,4,0],\n",
    "              [3,2,2,1,2],\n",
    "              [1,2,3,1,2],\n",
    "              [1,3,1,2,3]])\n",
    "\n",
    "b = np.array([17,11,15,12,14])"
   ]
  },
  {
   "cell_type": "code",
   "execution_count": 5,
   "metadata": {
    "scrolled": true
   },
   "outputs": [
    {
     "data": {
      "text/plain": [
       "     con: array([], dtype=float64)\n",
       "     fun: -7699.999999958311\n",
       " message: 'Optimization terminated successfully.'\n",
       "     nit: 6\n",
       "   slack: array([7.30011607e-11, 4.25259827e-12, 9.11448694e-11, 1.68213887e-10,\n",
       "       7.24025284e-11])\n",
       "  status: 0\n",
       " success: True\n",
       "       x: array([2., 1., 1., 1., 2.])"
      ]
     },
     "execution_count": 5,
     "metadata": {},
     "output_type": "execute_result"
    }
   ],
   "source": [
    "work_time = opt.linprog(c,A,b)\n",
    "work_time"
   ]
  },
  {
   "cell_type": "markdown",
   "metadata": {},
   "source": [
    "La mayor utilidad que obtendremos seria de $7,700, con 2 sillas del tipo A, 1 del B, 1 del C, 1 del D y 2 de la E.\n",
    "\n",
    "$\\max \\quad (1100A+1300B+1200C+980D+1010E)$\n",
    "\n",
    "Restricciones de igualdad\n",
    "\n",
    "$3x_1+2x_1+5x_1+2x_1+1x_1 <= 17$\n",
    "\n",
    "$1x_2+3x_2+2x_2+4x_2+0x_2 <= 11$\n",
    "\n",
    "$3x_3+2x_3+2x_3+1x_3+2x_3 <= 15$\n",
    "\n",
    "$1x_4+2x_4+3x_4+1x_4+2x_4 <= 12$\n",
    "\n",
    "$1x_5+3x_5+1x_5+2x_5+3x_5 <= 14$"
   ]
  }
 ],
 "metadata": {
  "kernelspec": {
   "display_name": "Python 3",
   "language": "python",
   "name": "python3"
  },
  "language_info": {
   "codemirror_mode": {
    "name": "ipython",
    "version": 3
   },
   "file_extension": ".py",
   "mimetype": "text/x-python",
   "name": "python",
   "nbconvert_exporter": "python",
   "pygments_lexer": "ipython3",
   "version": "3.7.4"
  }
 },
 "nbformat": 4,
 "nbformat_minor": 2
}
