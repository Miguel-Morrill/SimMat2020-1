{
 "cells": [
  {
   "cell_type": "markdown",
   "metadata": {},
   "source": [
    "# Examen Módulo 1 - Optimización. <font color=blue>Tipo de examen 1</font>.\n",
    "Lea cuidadosamente las siguientes **indicaciones** antes de comenzar el examen:\n",
    "- Para resolver el examen edite este mismo archivo y renómbrelo de la siguiente manera: *E1ApellidoNombre*, donde *ApellidoNombre* corresponde a su apellido paterno con la inicial en mayúscula, seguido de su primer nombre con la inicial en mayúscula **sin acentos**. Por ejemplo, en mi caso el nombre del archivo sería *E1ZapataCristian*.\n",
    "- Resuelva los puntos en el espacio provisto. Si requiere agregar más celdas para código o escritura, hágalo.\n",
    "- Recuerde que también se está evaluando su capacidad de interpretar los resultados. Escriba sus interpretaciones/conclusiones en celdas utilizando *Markdown*.\n",
    "- El formato de presentación de todo el examen en general debe ser adecuado. Use tamaños de letra, colores, etiquetas, etcétera.\n",
    "- No se resuelven dudas de ningún tipo por los profesores de la asignatura. Por favor, absténgase de preguntar.\n",
    "- Revise bien el tipo de examen. Sólo se le calificará si realiza el tipo de examen asignado."
   ]
  },
  {
   "cell_type": "markdown",
   "metadata": {},
   "source": [
    "## Primer punto. Optimización de funciones escalares usando `sympy` (30 puntos).\n",
    "\n",
    "**Enunciado.** Un granjero tiene $2400$ m de cerca y desea cercar un campo rectangular de longitud $x$ y altura $y$ que limita con un río recto. No necesita cercar a lo largo del río. ¿Cuáles son las dimensiones\n",
    "del campo que tiene el área más grande?\n",
    "\n",
    "Ver la siguiente figura como ayuda"
   ]
  },
  {
   "cell_type": "code",
   "execution_count": 1,
   "metadata": {},
   "outputs": [],
   "source": [
    "import numpy as np\n",
    "import matplotlib.pyplot as plt\n",
    "%matplotlib inline"
   ]
  },
  {
   "cell_type": "code",
   "execution_count": 2,
   "metadata": {},
   "outputs": [
    {
     "data": {
      "image/png": "[encoded data removed]",
      "text/plain": [
       "<Figure size 864x576 with 1 Axes>"
      ]
     },
     "metadata": {
      "needs_background": "light"
     },
     "output_type": "display_data"
    }
   ],
   "source": [
    "xr = [-1100, -1100, 1100, 1100]\n",
    "yr = [0, 100, 100, 0]\n",
    "\n",
    "xx = [-1100, 1100]\n",
    "yx = [0, 0]\n",
    "\n",
    "xy = [1100, 1100]\n",
    "yy = [0, 100]\n",
    "\n",
    "plt.figure(figsize = (12, 8))\n",
    "plt.plot(xr, yr, 'r')\n",
    "plt.plot(xx, yx, 'b')\n",
    "#plt.plot(xy, yy, 'g')\n",
    "plt.text(-50, 5, 'Río', fontsize = 16)\n",
    "plt.text(1140, 45, '$y$', fontsize = 16, color = 'k')\n",
    "plt.text(0, 102, '$x$', fontsize = 16, color = 'k')\n",
    "plt.show()"
   ]
  },
  {
   "cell_type": "markdown",
   "metadata": {},
   "source": [
    "**Punto 1 (10 puntos).** Encuentre el área del rectángulo en función de la variable $x$, $A_R(x)$. También provea el dominio de la función para que tenga sentido (Recuerde que las áreas no pueden ser negativas).\n",
    "\n",
    "Realice este punto usando fórmulas en LaTeX, en celdas Markdown."
   ]
  },
  {
   "cell_type": "markdown",
   "metadata": {},
   "source": [
    "**Solución punto 1.**"
   ]
  },
  {
   "cell_type": "markdown",
   "metadata": {},
   "source": []
  },
  {
   "cell_type": "markdown",
   "metadata": {},
   "source": [
    "**Punto 2 (15 puntos).** Usando `sympy` maximice la función $A_R(x)$ en su dominio."
   ]
  },
  {
   "cell_type": "markdown",
   "metadata": {},
   "source": [
    "**Solución punto 2.**"
   ]
  },
  {
   "cell_type": "code",
   "execution_count": 3,
   "metadata": {},
   "outputs": [],
   "source": [
    "import sympy as sym\n",
    "sym.init_printing(use_latex = 'mathjax')"
   ]
  },
  {
   "cell_type": "code",
   "execution_count": 4,
   "metadata": {},
   "outputs": [
    {
     "data": {
      "text/latex": [
       "$\\displaystyle x$"
      ],
      "text/plain": [
       "x"
      ]
     },
     "execution_count": 4,
     "metadata": {},
     "output_type": "execute_result"
    }
   ],
   "source": [
    "sym.var('x',real = True)"
   ]
  },
  {
   "cell_type": "code",
   "execution_count": 5,
   "metadata": {},
   "outputs": [],
   "source": [
    "def A(x):\n",
    "    return ((2400*x)-(x**2))/2\n",
    "def P(x):\n",
    "    return (2400-x)/2"
   ]
  },
  {
   "cell_type": "markdown",
   "metadata": {},
   "source": [
    "## Usamos P(x) como el valor de 'y' y lo sustituimos en la formula de Área $A_R$(x) = xy"
   ]
  },
  {
   "cell_type": "code",
   "execution_count": 6,
   "metadata": {},
   "outputs": [
    {
     "data": {
      "text/latex": [
       "$\\displaystyle 1200 - x$"
      ],
      "text/plain": [
       "1200 - x"
      ]
     },
     "execution_count": 6,
     "metadata": {},
     "output_type": "execute_result"
    }
   ],
   "source": [
    "df = sym.diff(A(x),x)\n",
    "df"
   ]
  },
  {
   "cell_type": "code",
   "execution_count": 7,
   "metadata": {},
   "outputs": [
    {
     "data": {
      "text/latex": [
       "$\\displaystyle \\left[ 1200\\right]$"
      ],
      "text/plain": [
       "[1200]"
      ]
     },
     "execution_count": 7,
     "metadata": {},
     "output_type": "execute_result"
    }
   ],
   "source": [
    "xc = sym.solve(df,x)\n",
    "xc"
   ]
  },
  {
   "cell_type": "code",
   "execution_count": 8,
   "metadata": {},
   "outputs": [
    {
     "data": {
      "text/latex": [
       "$\\displaystyle 720000.0$"
      ],
      "text/plain": [
       "720000.0"
      ]
     },
     "execution_count": 8,
     "metadata": {},
     "output_type": "execute_result"
    }
   ],
   "source": [
    "A(1200)"
   ]
  },
  {
   "cell_type": "markdown",
   "metadata": {},
   "source": [
    "## <font color=red> El área será de 720,000 metros cuadrados.\n",
    "    "
   ]
  },
  {
   "cell_type": "code",
   "execution_count": 9,
   "metadata": {},
   "outputs": [
    {
     "data": {
      "text/latex": [
       "$\\displaystyle 600.0$"
      ],
      "text/plain": [
       "600.0"
      ]
     },
     "execution_count": 9,
     "metadata": {},
     "output_type": "execute_result"
    }
   ],
   "source": [
    "P(1200)"
   ]
  },
  {
   "cell_type": "markdown",
   "metadata": {},
   "source": [
    "## <font color=blue> Ya que tenemos el valor de nuestra derivada, sustituimos en P(x) que es igual al valor de 'y' y obteneos que y = 600"
   ]
  },
  {
   "cell_type": "code",
   "execution_count": null,
   "metadata": {},
   "outputs": [],
   "source": []
  },
  {
   "cell_type": "markdown",
   "metadata": {},
   "source": []
  },
  {
   "cell_type": "markdown",
   "metadata": {},
   "source": [
    "**Punto 3 (5 puntos).** ¿Cuáles son las dimensiones $x$ y $y$ del rectángulo resultante?"
   ]
  },
  {
   "cell_type": "markdown",
   "metadata": {},
   "source": [
    "**Solución punto 3.**"
   ]
  },
  {
   "cell_type": "markdown",
   "metadata": {},
   "source": []
  },
  {
   "cell_type": "markdown",
   "metadata": {},
   "source": [
    "## <font color=blue> Las dimensiones del triangulo resultante es de $x$ = 1200 y $y$ = 600\n",
    "    "
   ]
  },
  {
   "cell_type": "markdown",
   "metadata": {},
   "source": []
  },
  {
   "cell_type": "code",
   "execution_count": null,
   "metadata": {},
   "outputs": [],
   "source": []
  },
  {
   "cell_type": "markdown",
   "metadata": {},
   "source": [
    "## Segundo punto. Programación lineal (35 puntos)."
   ]
  },
  {
   "cell_type": "markdown",
   "metadata": {},
   "source": [
    "**Enunciado.** Una compañía aérea dispone de dos tipos de aviones $A_1$, y $A_2$., para cubrir un determinado\n",
    "trayecto. El avión $A_1$, debe hacer el trayecto más veces que el avión $A_2$ pero no puede sobrepasar $120$\n",
    "viajes. Entre los dos aviones deben hacer más de $60$ vuelos, pero menos de $200$. En cada viaje del avión $A_1$ la empresa gana $\\$30000$ y $\\$20000$ por cada viaje del avión $A_2$. ¿Cuántos viajes debe hacer cada avión para obtener el máximo de ganancias?"
   ]
  },
  {
   "cell_type": "markdown",
   "metadata": {},
   "source": [
    "*Definición de variables*: Sea $x_1$ la cantidad de viajes del avión $A_1$ y $x_2$ la cantidad de e viajes del avión $A_2$."
   ]
  },
  {
   "cell_type": "markdown",
   "metadata": {},
   "source": [
    "**Punto 1 (20 puntos).** Escriba la función a minimizar junto con las restricciones, explicando detalladamente cada paso (usando fórmulas en LaTeX, en celdas Markdown). Además escriba el problema en la forma \n",
    "\\begin{equation}\n",
    "\\begin{array}{ll}\n",
    "\\min_{\\boldsymbol{x}} & \\boldsymbol{c}^T\\boldsymbol{x} \\\\\n",
    "\\text{s. a. }        & \\boldsymbol{A}_{eq}\\boldsymbol{x}=\\boldsymbol{b}_{eq} \\\\\n",
    "                     & \\boldsymbol{A}\\boldsymbol{x}\\leq\\boldsymbol{b},\n",
    "\\end{array}\n",
    "\\end{equation}\n",
    "\n",
    "proporcionando $\\boldsymbol{c}$, $\\boldsymbol{A}$ y $\\boldsymbol{b}$ ($\\boldsymbol{A}_{eq}$ y $\\boldsymbol{b}_{eq}$, de ser necesario) como arreglos de `NumPy` (no es necesario escribir en LaTeX el problema en la forma indicada, solo proporcionar las matrices como arreglos de `NumPy`). Adicionalmente, si se requiere, recuerde escribir las cotas (límites superiores e inferiores) para cada una de las variables."
   ]
  },
  {
   "cell_type": "markdown",
   "metadata": {},
   "source": [
    "**Solución punto 1.**"
   ]
  },
  {
   "cell_type": "markdown",
   "metadata": {},
   "source": []
  },
  {
   "cell_type": "code",
   "execution_count": 10,
   "metadata": {},
   "outputs": [],
   "source": [
    "import scipy.optimize as opt\n",
    "import numpy as np"
   ]
  },
  {
   "cell_type": "code",
   "execution_count": 11,
   "metadata": {},
   "outputs": [],
   "source": [
    "# Escriba acá las matrices como arreglos de Numpy\n",
    "c = -np.array([30000,20000])\n",
    "\n",
    "A = np.array([[-1,1],\n",
    "              [1,0],\n",
    "              [-1,-1],\n",
    "              [1,1]])\n",
    "b = np.array([0,120,-60,200])"
   ]
  },
  {
   "cell_type": "markdown",
   "metadata": {},
   "source": [
    "**Punto 2 (15 puntos).** Resuelva el problema utilizando la función `linprog`. ¿Cuántos será la ganancia total?, ¿Cuántos viajes debe hacer cada avión?"
   ]
  },
  {
   "cell_type": "code",
   "execution_count": 12,
   "metadata": {},
   "outputs": [],
   "source": [
    "sol = opt.linprog(c,A,b)"
   ]
  },
  {
   "cell_type": "code",
   "execution_count": 13,
   "metadata": {},
   "outputs": [
    {
     "data": {
      "text/plain": [
       "     con: array([], dtype=float64)\n",
       "     fun: -5199999.987367104\n",
       " message: 'Optimization terminated successfully.'\n",
       "     nit: 6\n",
       "   slack: array([3.99999999e+01, 2.91360649e-07, 1.40000000e+02, 4.85964506e-07])\n",
       "  status: 0\n",
       " success: True\n",
       "       x: array([119.99999971,  79.99999981])"
      ]
     },
     "execution_count": 13,
     "metadata": {},
     "output_type": "execute_result"
    }
   ],
   "source": [
    "sol"
   ]
  },
  {
   "cell_type": "markdown",
   "metadata": {},
   "source": [
    " ## <font color=red>La ganancia máxima que podría obtener la aerolinea es de $\\$5,200,000$, haciendo $120$ vuelos con el avion $ A_1 $ y $80$ vuelos con el avion $  A_2$.\n",
    "\n",
    "### \\begin{equation}\n",
    "\\begin{array}{1}\n",
    "\\text{max} & \\quad (30000A_1 + 20000 A_2)\\\\\n",
    "\\text{s. a. } & -A_1 + A_2 < 0 \\\\\n",
    "              & A_1 \\leq 120 \\\\\n",
    "              & -A_1 - A_2 \\leq -60 \\\\\n",
    "              & A_1 + A_2 \\leq 200\n",
    "\\end{array}\n",
    "\\end{equation}\n",
    "\n",
    "<font color=red> $\\max\\quad (30000A_1 + 20000 A_2)$\n",
    "\n",
    "Restricciones de Igualdad\n",
    "\n",
    "$ -A_1 + A_2 < 0$\n",
    "\n",
    "$  A_1 \\leq 120$\n",
    "\n",
    "$ -A_1 - A_2 \\leq -60$\n",
    "\n",
    "$  A_1 + A_2 \\leq 200$"
   ]
  },
  {
   "cell_type": "markdown",
   "metadata": {},
   "source": []
  },
  {
   "cell_type": "markdown",
   "metadata": {},
   "source": [
    "## Tercer punto. Ajuste de curvas (35 puntos).\n",
    "\n",
    "**Enunciado**. El archivo `renewable_energy.csv` contiene información histórica anual de México relativa al consumo de energías de fuentes renovables en porcentaje desde el año 1990 hasta el año 2015. La primer columna corresponde al consecutivo, la segunda a los años, y la tercera al consumo.\n",
    "\n",
    "Tomado de: https://data.worldbank.org/indicator/EG.FEC.RNEW.ZS?view=chart\n",
    "\n",
    "**Punto 1 (10 puntos).** Importar los datos en un DataFrame de pandas."
   ]
  },
  {
   "cell_type": "markdown",
   "metadata": {},
   "source": [
    "**Solución punto 1.**"
   ]
  },
  {
   "cell_type": "code",
   "execution_count": 14,
   "metadata": {},
   "outputs": [],
   "source": [
    "import pandas as pd"
   ]
  },
  {
   "cell_type": "code",
   "execution_count": 15,
   "metadata": {},
   "outputs": [
    {
     "data": {
      "text/html": [
       "<div>\n",
       "<style scoped>\n",
       "    .dataframe tbody tr th:only-of-type {\n",
       "        vertical-align: middle;\n",
       "    }\n",
       "\n",
       "    .dataframe tbody tr th {\n",
       "        vertical-align: top;\n",
       "    }\n",
       "\n",
       "    .dataframe thead th {\n",
       "        text-align: right;\n",
       "    }\n",
       "</style>\n",
       "<table border=\"1\" class=\"dataframe\">\n",
       "  <thead>\n",
       "    <tr style=\"text-align: right;\">\n",
       "      <th></th>\n",
       "      <th>Consecutivo</th>\n",
       "      <th>Year</th>\n",
       "      <th>% of total final energy consumption</th>\n",
       "    </tr>\n",
       "  </thead>\n",
       "  <tbody>\n",
       "    <tr>\n",
       "      <td>0</td>\n",
       "      <td>1</td>\n",
       "      <td>1990</td>\n",
       "      <td>14.413302</td>\n",
       "    </tr>\n",
       "    <tr>\n",
       "      <td>1</td>\n",
       "      <td>2</td>\n",
       "      <td>1991</td>\n",
       "      <td>13.195512</td>\n",
       "    </tr>\n",
       "    <tr>\n",
       "      <td>2</td>\n",
       "      <td>3</td>\n",
       "      <td>1992</td>\n",
       "      <td>13.427092</td>\n",
       "    </tr>\n",
       "    <tr>\n",
       "      <td>3</td>\n",
       "      <td>4</td>\n",
       "      <td>1993</td>\n",
       "      <td>13.303969</td>\n",
       "    </tr>\n",
       "    <tr>\n",
       "      <td>4</td>\n",
       "      <td>5</td>\n",
       "      <td>1994</td>\n",
       "      <td>11.863103</td>\n",
       "    </tr>\n",
       "    <tr>\n",
       "      <td>5</td>\n",
       "      <td>6</td>\n",
       "      <td>1995</td>\n",
       "      <td>13.261833</td>\n",
       "    </tr>\n",
       "    <tr>\n",
       "      <td>6</td>\n",
       "      <td>7</td>\n",
       "      <td>1996</td>\n",
       "      <td>13.064724</td>\n",
       "    </tr>\n",
       "    <tr>\n",
       "      <td>7</td>\n",
       "      <td>8</td>\n",
       "      <td>1997</td>\n",
       "      <td>12.699777</td>\n",
       "    </tr>\n",
       "    <tr>\n",
       "      <td>8</td>\n",
       "      <td>9</td>\n",
       "      <td>1998</td>\n",
       "      <td>12.238453</td>\n",
       "    </tr>\n",
       "    <tr>\n",
       "      <td>9</td>\n",
       "      <td>10</td>\n",
       "      <td>1999</td>\n",
       "      <td>12.748461</td>\n",
       "    </tr>\n",
       "    <tr>\n",
       "      <td>10</td>\n",
       "      <td>11</td>\n",
       "      <td>2000</td>\n",
       "      <td>12.167360</td>\n",
       "    </tr>\n",
       "    <tr>\n",
       "      <td>11</td>\n",
       "      <td>12</td>\n",
       "      <td>2001</td>\n",
       "      <td>11.343885</td>\n",
       "    </tr>\n",
       "    <tr>\n",
       "      <td>12</td>\n",
       "      <td>13</td>\n",
       "      <td>2002</td>\n",
       "      <td>10.682781</td>\n",
       "    </tr>\n",
       "    <tr>\n",
       "      <td>13</td>\n",
       "      <td>14</td>\n",
       "      <td>2003</td>\n",
       "      <td>10.169039</td>\n",
       "    </tr>\n",
       "    <tr>\n",
       "      <td>14</td>\n",
       "      <td>15</td>\n",
       "      <td>2004</td>\n",
       "      <td>10.213293</td>\n",
       "    </tr>\n",
       "    <tr>\n",
       "      <td>15</td>\n",
       "      <td>16</td>\n",
       "      <td>2005</td>\n",
       "      <td>10.305756</td>\n",
       "    </tr>\n",
       "    <tr>\n",
       "      <td>16</td>\n",
       "      <td>17</td>\n",
       "      <td>2006</td>\n",
       "      <td>9.824107</td>\n",
       "    </tr>\n",
       "    <tr>\n",
       "      <td>17</td>\n",
       "      <td>18</td>\n",
       "      <td>2007</td>\n",
       "      <td>9.456580</td>\n",
       "    </tr>\n",
       "    <tr>\n",
       "      <td>18</td>\n",
       "      <td>19</td>\n",
       "      <td>2008</td>\n",
       "      <td>9.769618</td>\n",
       "    </tr>\n",
       "    <tr>\n",
       "      <td>19</td>\n",
       "      <td>20</td>\n",
       "      <td>2009</td>\n",
       "      <td>9.168405</td>\n",
       "    </tr>\n",
       "    <tr>\n",
       "      <td>20</td>\n",
       "      <td>21</td>\n",
       "      <td>2010</td>\n",
       "      <td>9.359978</td>\n",
       "    </tr>\n",
       "    <tr>\n",
       "      <td>21</td>\n",
       "      <td>22</td>\n",
       "      <td>2011</td>\n",
       "      <td>9.066472</td>\n",
       "    </tr>\n",
       "    <tr>\n",
       "      <td>22</td>\n",
       "      <td>23</td>\n",
       "      <td>2012</td>\n",
       "      <td>8.964824</td>\n",
       "    </tr>\n",
       "    <tr>\n",
       "      <td>23</td>\n",
       "      <td>24</td>\n",
       "      <td>2013</td>\n",
       "      <td>9.231363</td>\n",
       "    </tr>\n",
       "    <tr>\n",
       "      <td>24</td>\n",
       "      <td>25</td>\n",
       "      <td>2014</td>\n",
       "      <td>9.758462</td>\n",
       "    </tr>\n",
       "    <tr>\n",
       "      <td>25</td>\n",
       "      <td>26</td>\n",
       "      <td>2015</td>\n",
       "      <td>9.215213</td>\n",
       "    </tr>\n",
       "  </tbody>\n",
       "</table>\n",
       "</div>"
      ],
      "text/plain": [
       "    Consecutivo  Year  % of total final energy consumption\n",
       "0             1  1990                            14.413302\n",
       "1             2  1991                            13.195512\n",
       "2             3  1992                            13.427092\n",
       "3             4  1993                            13.303969\n",
       "4             5  1994                            11.863103\n",
       "5             6  1995                            13.261833\n",
       "6             7  1996                            13.064724\n",
       "7             8  1997                            12.699777\n",
       "8             9  1998                            12.238453\n",
       "9            10  1999                            12.748461\n",
       "10           11  2000                            12.167360\n",
       "11           12  2001                            11.343885\n",
       "12           13  2002                            10.682781\n",
       "13           14  2003                            10.169039\n",
       "14           15  2004                            10.213293\n",
       "15           16  2005                            10.305756\n",
       "16           17  2006                             9.824107\n",
       "17           18  2007                             9.456580\n",
       "18           19  2008                             9.769618\n",
       "19           20  2009                             9.168405\n",
       "20           21  2010                             9.359978\n",
       "21           22  2011                             9.066472\n",
       "22           23  2012                             8.964824\n",
       "23           24  2013                             9.231363\n",
       "24           25  2014                             9.758462\n",
       "25           26  2015                             9.215213"
      ]
     },
     "execution_count": 15,
     "metadata": {},
     "output_type": "execute_result"
    }
   ],
   "source": [
    "archivo = 'renewable_energy.csv'\n",
    "data = pd.read_csv(archivo)\n",
    "data"
   ]
  },
  {
   "cell_type": "markdown",
   "metadata": {},
   "source": [
    "**Punto 2 (15 puntos).** Usando el consecutivo como variable independiente $x$ y el consumo de energías renovables como variable dependiente $y$, ajustar polinomios de grado 1 hasta grado 3.\n",
    "\n",
    "Mostrar en un solo gráfico los datos de consumo contra los años, y los polinomios ajustados.\n",
    "\n",
    "Graficar el error cuadrático acumulado contra el número de términos. ¿Cuál es el polinomio que mejor se ajusta?"
   ]
  },
  {
   "cell_type": "markdown",
   "metadata": {},
   "source": [
    "**Solución punto 2.**"
   ]
  },
  {
   "cell_type": "code",
   "execution_count": 16,
   "metadata": {},
   "outputs": [],
   "source": [
    "import numpy as np\n",
    "import scipy.optimize as opt"
   ]
  },
  {
   "cell_type": "code",
   "execution_count": 17,
   "metadata": {},
   "outputs": [],
   "source": [
    "x = data.iloc[:,0]\n",
    "y = data.iloc[:,2]"
   ]
  },
  {
   "cell_type": "code",
   "execution_count": 18,
   "metadata": {},
   "outputs": [],
   "source": [
    "def obj(beta,x,y,n):\n",
    "    return np.sum((y-beta.dot([x**i for i in range(n+1)]))**2)"
   ]
  },
  {
   "cell_type": "code",
   "execution_count": 19,
   "metadata": {},
   "outputs": [],
   "source": [
    "beta_01 = np.zeros(2)\n",
    "sol1 = opt.minimize(obj,beta_01,args=(x,y,1))\n",
    "beta_02 = np.zeros(3)\n",
    "sol2 = opt.minimize(obj,beta_02,args=(x,y,2))\n",
    "beta_03 = np.zeros(4)\n",
    "sol3 = opt.minimize(obj,beta_03,args=(x,y,3))\n",
    "beta_04 = np.zeros(5)"
   ]
  },
  {
   "cell_type": "code",
   "execution_count": 20,
   "metadata": {},
   "outputs": [
    {
     "data": {
      "text/plain": [
       "      fun: 8.127439608947888\n",
       " hess_inv: array([[ 0.08154333, -0.0046162 ],\n",
       "       [-0.0046162 ,  0.00034202]])\n",
       "      jac: array([ 0.00000000e+00, -1.78813934e-06])\n",
       "  message: 'Optimization terminated successfully.'\n",
       "     nfev: 28\n",
       "      nit: 6\n",
       "     njev: 7\n",
       "   status: 0\n",
       "  success: True\n",
       "        x: array([14.00697767, -0.21443891])"
      ]
     },
     "execution_count": 20,
     "metadata": {},
     "output_type": "execute_result"
    }
   ],
   "source": [
    "sol1"
   ]
  },
  {
   "cell_type": "code",
   "execution_count": 21,
   "metadata": {},
   "outputs": [
    {
     "data": {
      "text/plain": [
       "      fun: 4.722277478970358\n",
       " hess_inv: array([[ 4.16555243e-01, -1.17530672e-01,  8.86287719e-03,\n",
       "        -1.95094779e-04],\n",
       "       [-1.17530672e-01,  4.12592752e-02, -3.41862058e-03,\n",
       "         7.93228792e-05],\n",
       "       [ 8.86287719e-03, -3.41862058e-03,  2.99552630e-04,\n",
       "        -7.20793527e-06],\n",
       "       [-1.95094779e-04,  7.93228792e-05, -7.20793527e-06,\n",
       "         1.77973717e-07]])\n",
       "      jac: array([-1.78813934e-07, -5.96046448e-08, -1.78813934e-07, -5.96046448e-08])\n",
       "  message: 'Optimization terminated successfully.'\n",
       "     nfev: 54\n",
       "      nit: 6\n",
       "     njev: 9\n",
       "   status: 0\n",
       "  success: True\n",
       "        x: array([ 1.36463465e+01,  4.23092536e-02, -2.99359081e-02,  8.51375975e-04])"
      ]
     },
     "execution_count": 21,
     "metadata": {},
     "output_type": "execute_result"
    }
   ],
   "source": [
    "sol3"
   ]
  },
  {
   "cell_type": "code",
   "execution_count": 22,
   "metadata": {},
   "outputs": [
    {
     "data": {
      "text/plain": [
       "      fun: 6.773933447387984\n",
       " hess_inv: array([[ 2.02692315e-01, -3.05769245e-02,  9.61538511e-04],\n",
       "       [-3.05769245e-02,  5.90506742e-03, -2.06043965e-04],\n",
       "       [ 9.61538511e-04, -2.06043965e-04,  7.63125794e-06]])\n",
       "      jac: array([ 0.00000000e+00, -1.19209290e-07, -5.96046448e-08])\n",
       "  message: 'Optimization terminated successfully.'\n",
       "     nfev: 40\n",
       "      nit: 5\n",
       "     njev: 8\n",
       "   status: 0\n",
       "  success: True\n",
       "        x: array([ 1.45796249e+01, -3.37149023e-01,  4.54481903e-03])"
      ]
     },
     "execution_count": 22,
     "metadata": {},
     "output_type": "execute_result"
    }
   ],
   "source": [
    "sol2"
   ]
  },
  {
   "cell_type": "code",
   "execution_count": 23,
   "metadata": {},
   "outputs": [],
   "source": [
    "x_p = x\n",
    "y_p = y\n",
    "\n",
    "yhat1 = (sol1.x[0] + sol1.x[1]*x_p)\n",
    "yhat2 = (sol2.x[0] + sol2.x[1]*x_p + sol2.x[2]*(x_p**2))\n",
    "yhat3 = (sol3.x[0] + sol3.x[1]*x_p + sol3.x[2]*(x_p**2) + sol3.x[3]*(x_p**3))"
   ]
  },
  {
   "cell_type": "code",
   "execution_count": 24,
   "metadata": {},
   "outputs": [],
   "source": [
    "import matplotlib.pyplot as plt"
   ]
  },
  {
   "cell_type": "code",
   "execution_count": 25,
   "metadata": {},
   "outputs": [
    {
     "data": {
      "image/png": "[encoded data removed]",
      "text/plain": [
       "<Figure size 1080x720 with 1 Axes>"
      ]
     },
     "metadata": {
      "needs_background": "light"
     },
     "output_type": "display_data"
    }
   ],
   "source": [
    "plt.figure(figsize=(15,10))\n",
    "\n",
    "plt.plot(x_p+1959, y_p, '-.Pr',ms=5,label='Datos')\n",
    "plt.plot(x_p+1959,yhat1,'r',ms=5,label='Polinimio 1')\n",
    "plt.plot(x_p+1959,yhat2,'g',ms=5,label='Polinimio 2')\n",
    "plt.plot(x_p+1959,yhat3,'k',ms=5,label='Polinimio 3')\n",
    "\n",
    "\n",
    "plt.ylabel('Consumo de energía')\n",
    "plt.xlabel('Años')\n",
    "plt.legend(loc='best')\n",
    "plt.grid()\n",
    "plt.show()\n",
    "\n"
   ]
  },
  {
   "cell_type": "code",
   "execution_count": 26,
   "metadata": {},
   "outputs": [
    {
     "data": {
      "text/plain": [
       "Text(0, 0.5, 'error')"
      ]
     },
     "execution_count": 26,
     "metadata": {},
     "output_type": "execute_result"
    },
    {
     "data": {
      "image/png": "[encoded data removed]",
      "text/plain": [
       "<Figure size 1080x720 with 1 Axes>"
      ]
     },
     "metadata": {
      "needs_background": "light"
     },
     "output_type": "display_data"
    }
   ],
   "source": [
    "e = [sol1.fun, sol2.fun, sol3.fun]\n",
    "plt.figure(figsize=(15,10))\n",
    "plt.plot(range(1,4), e, 'ro', ms=5)\n",
    "plt.xlabel('Orden del polinomio')\n",
    "plt.ylabel('error')"
   ]
  },
  {
   "cell_type": "markdown",
   "metadata": {},
   "source": []
  },
  {
   "cell_type": "markdown",
   "metadata": {},
   "source": []
  },
  {
   "cell_type": "markdown",
   "metadata": {},
   "source": [
    "**Punto 3 (10 puntos).** Con los polinomios ajustados en el punto anterior, estime el consumo en el año 2015 y compare con el dato real $9.215\\%$.\n",
    "\n",
    "¿Cuál polinomio estima mejor este dato? ¿Es el polinomio que mejor se ajusta? Concluya."
   ]
  },
  {
   "cell_type": "markdown",
   "metadata": {
    "collapsed": true
   },
   "source": [
    "**Solución punto 3.**"
   ]
  },
  {
   "cell_type": "code",
   "execution_count": 27,
   "metadata": {},
   "outputs": [
    {
     "data": {
      "text/latex": [
       "$\\displaystyle \\left( 8.431566034100046, \\  8.886047939816242, \\  9.473497354377017, \\  9.215213455\\right)$"
      ],
      "text/plain": [
       "(8.431566034100046, 8.886047939816242, 9.473497354377017, 9.215213455)"
      ]
     },
     "execution_count": 27,
     "metadata": {},
     "output_type": "execute_result"
    }
   ],
   "source": [
    "yhat1[25],yhat2[25],yhat3[25],data.iloc[25,2]"
   ]
  },
  {
   "cell_type": "markdown",
   "metadata": {},
   "source": [
    "## <font color=green>El polinomio que mejor se ajusta es el de orden 3, aunque los datos estan muy variados, por lo que suponemos que necesitaremos un polinomio de grado mayor para poder alcanzar más precisión."
   ]
  }
 ],
 "metadata": {
  "kernelspec": {
   "display_name": "Python 3",
   "language": "python",
   "name": "python3"
  },
  "language_info": {
   "codemirror_mode": {
    "name": "ipython",
    "version": 3
   },
   "file_extension": ".py",
   "mimetype": "text/x-python",
   "name": "python",
   "nbconvert_exporter": "python",
   "pygments_lexer": "ipython3",
   "version": "3.7.4"
  }
 },
 "nbformat": 4,
 "nbformat_minor": 2
}
